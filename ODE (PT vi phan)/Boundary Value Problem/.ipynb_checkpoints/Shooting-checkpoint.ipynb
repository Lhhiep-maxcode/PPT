{
 "cells": [
  {
   "cell_type": "code",
   "id": "initial_id",
   "metadata": {
    "collapsed": true,
    "ExecuteTime": {
     "end_time": "2024-05-29T03:54:22.768694Z",
     "start_time": "2024-05-29T03:54:22.766033Z"
    }
   },
   "source": [
    "from scipy.integrate import odeint\n",
    "from scipy.optimize import fsolve\n",
    "import numpy as np"
   ],
   "execution_count": 6,
   "outputs": []
  },
  {
   "metadata": {
    "ExecuteTime": {
     "end_time": "2024-05-29T03:54:22.777911Z",
     "start_time": "2024-05-29T03:54:22.773745Z"
    }
   },
   "cell_type": "code",
   "source": [
    "def f(x, y):\n",
    "    dy1dx = y[1]\n",
    "    dy2dx = 4*x + 2 * (y[1] ** 2) * (x ** -3) - 9 * (y[0] ** 2) * (x ** -5)\n",
    "    return [dy1dx, dy2dx]\n"
   ],
   "id": "dfe350211e3d162c",
   "execution_count": 7,
   "outputs": []
  },
  {
   "metadata": {
    "ExecuteTime": {
     "end_time": "2024-05-29T03:54:22.784152Z",
     "start_time": "2024-05-29T03:54:22.777911Z"
    }
   },
   "cell_type": "code",
   "source": [
    "def shooting(guess):\n",
    "    y0 = [0, guess]  # initial condition with guess for y'(1)\n",
    "    odesolver = odeint(f, y0, x)\n",
    "    return odesolver[:, 0][-1] - y_target"
   ],
   "id": "92103670418424ed",
   "execution_count": 8,
   "outputs": []
  },
  {
   "metadata": {
    "ExecuteTime": {
     "end_time": "2024-05-29T03:54:22.790848Z",
     "start_time": "2024-05-29T03:54:22.784152Z"
    }
   },
   "cell_type": "code",
   "source": [
    "y_target = np.log(256)\n",
    "y0 = [0, 2]\n",
    "x = np.linspace(1, 2, 20)"
   ],
   "id": "fb9b473cc9b93850",
   "execution_count": 9,
   "outputs": []
  },
  {
   "metadata": {
    "ExecuteTime": {
     "end_time": "2024-05-29T03:54:22.866931Z",
     "start_time": "2024-05-29T03:54:22.790848Z"
    }
   },
   "cell_type": "code",
   "source": [
    "y2 = fsolve(shooting, .5)\n",
    "print(y2)"
   ],
   "id": "1a44eafb47e7a95e",
   "execution_count": 10,
   "outputs": []
  }
 ],
 "metadata": {
  "kernelspec": {
   "display_name": "Python 3",
   "language": "python",
   "name": "python3"
  },
  "language_info": {
   "codemirror_mode": {
    "name": "ipython",
    "version": 2
   },
   "file_extension": ".py",
   "mimetype": "text/x-python",
   "name": "python",
   "nbconvert_exporter": "python",
   "pygments_lexer": "ipython2",
   "version": "2.7.6"
  }
 },
 "nbformat": 4,
 "nbformat_minor": 5
}
