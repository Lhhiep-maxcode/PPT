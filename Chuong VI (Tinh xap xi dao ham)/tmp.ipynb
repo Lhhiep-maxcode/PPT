{
 "cells": [
  {
   "cell_type": "code",
   "execution_count": null,
   "metadata": {},
   "outputs": [],
   "source": [
    "from math import pi, e\n",
    "\n",
    "class DerivativeApproximation():\n",
    "    def approx(self, f, x0, h):\n",
    "        print(\"3-point midpoint: \", self.midpoint_rule_3point(f, x0, h))\n",
    "        print(\"3-point endpoint: \", self.endpoint_rule_3point(f, x0, h))\n",
    "        print(\"5-point midpoint: \", self.midpoint_rule_5point(f, x0, h))\n",
    "        print(\"5-point endpoint: \", self.endpoint_rule_5point(f, x0, h))\n",
    "        print(\"Second derivative: \", self.snd_derivative(f, x0, h))\n",
    "\n",
    "    def midpoint_rule_3point(self, f, x0, h):\n",
    "        d =  (f(x0+h) - f(x0-h)) / (2.0*h)\n",
    "        return d\n",
    "\n",
    "    def endpoint_rule_3point(self, f, x0, h):\n",
    "        d =  (-3*f(x0) + 4*f(x0+h) - f(x0+2*h)) / (2.0*h)\n",
    "        return d\n",
    "\n",
    "    def midpoint_rule_5point(self, f, x0, h):\n",
    "        d = (f(x0-2*h) - 8*f(x0-h) + 8*f(x0+h) - f(x0+2*h)) / (12*h)\n",
    "        return d\n",
    "\n",
    "    def endpoint_rule_5point(self, f, x0, h):\n",
    "        d = (-25*f(x0) + 48*f(x0+h) - 36*f(x0+2*h) + 16*f(x0+3*h) - 3*f(x0+4*h)) / (12.0*h)\n",
    "        return d\n",
    "    def snd_derivative(self, f, x0, h):\n",
    "        d = h**(-2) * (f(x0-h) - 2*f(x0) + f(x0+h))\n",
    "        return d\n",
    "\n",
    "if __name__ == \"__main__\":\n",
    "    f = lambda x: (2*pi)**(-0.5) * e**(-x**2/2)\n",
    "\n",
    "    x = [0, 1, 2]  # Points defining the interval [0, 2]\n",
    "    dx = DerivativeApproximation()\n",
    "\n",
    "    dx.approx(f, x[1], 1)"
   ]
  }
 ],
 "metadata": {
  "language_info": {
   "name": "python"
  }
 },
 "nbformat": 4,
 "nbformat_minor": 2
}
